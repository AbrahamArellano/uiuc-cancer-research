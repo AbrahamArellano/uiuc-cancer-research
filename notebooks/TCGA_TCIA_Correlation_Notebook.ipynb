{
 "cells": [
  {
   "cell_type": "markdown",
   "id": "5e1e4a18",
   "metadata": {},
   "source": [
    "# 🧬 TCGA-PRAD + TCIA Data Correlation Notebook\n",
    "\n",
    "This notebook helps correlate genomic and clinical data from the GDC portal with imaging metadata from TCIA for prostate cancer research."
   ]
  },
  {
   "cell_type": "markdown",
   "id": "85df946c",
   "metadata": {},
   "source": [
    "## Step 1: Load Genomic and Clinical Data from GDC (JSON Format)"
   ]
  },
  {
   "cell_type": "code",
   "execution_count": null,
   "id": "30671886",
   "metadata": {},
   "outputs": [],
   "source": [
    "import pandas as pd\n",
    "import json\n",
    "\n",
    "# Load GDC JSON file (replace with actual file path)\n",
    "with open('gdc_cases.json') as f:\n",
    "    gdc_data = json.load(f)\n",
    "\n",
    "# Convert JSON to DataFrame\n",
    "gdc_df = pd.json_normalize(gdc_data)\n",
    "gdc_df['patient_id'] = gdc_df['submitter_id'].str.upper()\n",
    "gdc_df.head()"
   ]
  },
  {
   "cell_type": "markdown",
   "id": "57bf0e0c",
   "metadata": {},
   "source": [
    "## Step 2: Load Imaging Metadata from TCIA (CSV Format)"
   ]
  },
  {
   "cell_type": "code",
   "execution_count": null,
   "id": "d38f387a",
   "metadata": {},
   "outputs": [],
   "source": [
    "# Load TCIA metadata CSV (replace with actual file path)\n",
    "tcia_df = pd.read_csv('tcia_metadata.csv')\n",
    "tcia_df['patient_id'] = tcia_df['PatientID'].str.upper()\n",
    "tcia_df.head()"
   ]
  },
  {
   "cell_type": "markdown",
   "id": "8088bead",
   "metadata": {},
   "source": [
    "## Step 3: Merge Genomic/Clinical and Imaging Data"
   ]
  },
  {
   "cell_type": "code",
   "execution_count": null,
   "id": "41f90c15",
   "metadata": {},
   "outputs": [],
   "source": [
    "# Merge on patient_id\n",
    "merged_df = pd.merge(gdc_df, tcia_df, on='patient_id')\n",
    "merged_df.to_csv('merged_patient_data.csv', index=False)\n",
    "merged_df.head()"
   ]
  },
  {
   "cell_type": "markdown",
   "id": "29f77b75",
   "metadata": {},
   "source": [
    "## Step 4: Prepare Merged Dataset for Downstream ML (Optional)"
   ]
  },
  {
   "cell_type": "code",
   "execution_count": null,
   "id": "813030c8",
   "metadata": {},
   "outputs": [],
   "source": [
    "# Drop unnecessary columns or prepare features\n",
    "# Example: Keep only relevant features\n",
    "features = merged_df[['patient_id', 'age_at_diagnosis', 'StudyInstanceUID', 'imaging modality']]\n",
    "features.head()"
   ]
  }
 ],
 "metadata": {},
 "nbformat": 4,
 "nbformat_minor": 5
}
